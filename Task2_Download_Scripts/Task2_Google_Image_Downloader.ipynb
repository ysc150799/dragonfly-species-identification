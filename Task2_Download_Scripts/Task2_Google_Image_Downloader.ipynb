{
 "cells": [
  {
   "cell_type": "markdown",
   "metadata": {},
   "source": [
    "# Image Downloader for Google Images"
   ]
  },
  {
   "cell_type": "code",
   "execution_count": 120,
   "metadata": {},
   "outputs": [],
   "source": [
    "from google_images_download import google_images_download\n",
    "import pandas as pd\n",
    "import numpy as np\n",
    "import requests\n",
    "from bs4 import BeautifulSoup\n",
    "from selenium import webdriver\n",
    "import time\n",
    "import urllib.request\n",
    "import hashlib\n",
    "import os\n",
    "from PIL import Image\n",
    "import io\n",
    "from selenium.webdriver.common.keys import Keys"
   ]
  },
  {
   "cell_type": "code",
   "execution_count": 121,
   "metadata": {},
   "outputs": [
    {
     "name": "stdout",
     "output_type": "stream",
     "text": [
      "309\n"
     ]
    },
    {
     "data": {
      "text/plain": [
       "'cercion calamorum'"
      ]
     },
     "execution_count": 121,
     "metadata": {},
     "output_type": "execute_result"
    }
   ],
   "source": [
    "dataset=pd.read_csv(\"Task2_Dataset.csv\")\n",
    "spname=[]\n",
    "for x in range(0,dataset.shape[0]):\n",
    "    if dataset[\"species_name\"].iloc[x] == '-1':\n",
    "        continue\n",
    "    elif x not in spname:\n",
    "        spname.append(dataset[\"species_name\"].iloc[x])\n",
    "spname=list(set(spname))\n",
    "print(len(spname))\n",
    "spname[0]"
   ]
  },
  {
   "cell_type": "code",
   "execution_count": 122,
   "metadata": {},
   "outputs": [],
   "source": [
    "def fetch_image_urls(query:str, max_links_to_fetch:int, wd:webdriver, sleep_between_interactions:int=1):\n",
    "    def scroll_to_end(wd):\n",
    "        wd.execute_script(\"window.scrollTo(0, document.body.scrollHeight);\")\n",
    "        time.sleep(sleep_between_interactions)    \n",
    "    \n",
    "    # build the google query\n",
    "    search_url = \"https://www.google.com/search?safe=off&site=&tbm=isch&source=hp&q={q}&oq={q}&gs_l=img\"\n",
    "\n",
    "    # load the page\n",
    "    wd.get(search_url.format(q=query))\n",
    "\n",
    "    image_urls = set()\n",
    "    image_count = 0\n",
    "    results_start = 0\n",
    "    while image_count < max_links_to_fetch:\n",
    "        scroll_to_end(wd)\n",
    "\n",
    "        # get all image thumbnail results\n",
    "        thumbnail_results = wd.find_elements_by_css_selector(\"img.Q4LuWd\")\n",
    "        number_results = len(thumbnail_results)\n",
    "        \n",
    "        print(f\"Found: {number_results} search results. Extracting links from {results_start}:{number_results}\")\n",
    "        \n",
    "        for img in thumbnail_results[results_start:number_results]:\n",
    "            # try to click every thumbnail such that we can get the real image behind it\n",
    "            try:\n",
    "                img.click()\n",
    "                time.sleep(sleep_between_interactions)\n",
    "            except Exception:\n",
    "                continue\n",
    "\n",
    "            # extract image urls    \n",
    "            actual_images = wd.find_elements_by_css_selector('img.n3VNCb')\n",
    "            for actual_image in actual_images:\n",
    "                if actual_image.get_attribute('src') and 'http' in actual_image.get_attribute('src'):\n",
    "                    image_urls.add(actual_image.get_attribute('src'))\n",
    "\n",
    "            image_count = len(image_urls)\n",
    "\n",
    "            if len(image_urls) >= max_links_to_fetch:\n",
    "                print(f\"Found: {len(image_urls)} image links, done!\")\n",
    "                break\n",
    "        else:\n",
    "            print(\"Found:\", len(image_urls), \"image links, looking for more ...\")\n",
    "            time.sleep(30)\n",
    "            return\n",
    "            load_more_button = wd.find_element_by_css_selector(\".mye4qd\")\n",
    "            if load_more_button:\n",
    "                wd.execute_script(\"document.querySelector('.mye4qd').click();\")\n",
    "\n",
    "        # move the result startpoint further down\n",
    "        results_start = len(thumbnail_results)\n",
    "\n",
    "    return image_urls"
   ]
  },
  {
   "cell_type": "code",
   "execution_count": 123,
   "metadata": {},
   "outputs": [],
   "source": [
    "def persist_image(folder_path:str,url:str):\n",
    "    try:\n",
    "        image_content = requests.get(url).content\n",
    "\n",
    "    except Exception as e:\n",
    "        print(f\"ERROR - Could not download {url} - {e}\")\n",
    "\n",
    "    try:\n",
    "        image_file = io.BytesIO(image_content)\n",
    "        image = Image.open(image_file).convert('RGB')\n",
    "        file_path = os.path.join(folder_path,hashlib.sha1(image_content).hexdigest()[:10] + '.jpg')\n",
    "        with open(file_path, 'wb') as f:\n",
    "            image.save(f, \"JPEG\", quality=85)\n",
    "        print(f\"SUCCESS - saved {url} - as {file_path}\")\n",
    "    except Exception as e:\n",
    "        print(f\"ERROR - Could not save {url} - {e}\")"
   ]
  },
  {
   "cell_type": "code",
   "execution_count": 126,
   "metadata": {},
   "outputs": [],
   "source": [
    "def search_and_download(search_term:str,driver_path:str,target_path='./images',number_images=15):\n",
    "    target_folder = os.path.join(target_path,search_term.lower())\n",
    "\n",
    "    if not os.path.exists(target_folder):\n",
    "        os.makedirs(target_folder)\n",
    "\n",
    "    with webdriver.Chrome(executable_path=driver_path) as wd:\n",
    "        res = fetch_image_urls(search_term, number_images, wd=wd, sleep_between_interactions=8)\n",
    "        \n",
    "    for elem in res:\n",
    "        persist_image(target_folder,elem)"
   ]
  },
  {
   "cell_type": "code",
   "execution_count": 128,
   "metadata": {},
   "outputs": [
    {
     "name": "stdout",
     "output_type": "stream",
     "text": [
      "Found: 200 search results. Extracting links from 0:200\n",
      "Found: 30 image links, done!\n",
      "SUCCESS - saved https://encrypted-tbn0.gstatic.com/images?q=tbn%3AANd9GcRjz1c6Nxzt5y9oZ3pDgbc_9ehmaO246ws3KPeKMEHDncj_Fccp&usqp=CAU - as /home/sic_mundus/Documents/dragonfly-species-identification/Img1/merogomphus/2b98f1de56.jpg\n",
      "SUCCESS - saved https://live.staticflickr.com/2907/14452379049_85ee3ce235_n.jpg - as /home/sic_mundus/Documents/dragonfly-species-identification/Img1/merogomphus/0eb238de76.jpg\n",
      "SUCCESS - saved https://encrypted-tbn0.gstatic.com/images?q=tbn%3AANd9GcQeo2ce8TJ3C1gaF2UFqV4sAI2qFe-YqcL65xr1UBC6WqJZ3jX0&usqp=CAU - as /home/sic_mundus/Documents/dragonfly-species-identification/Img1/merogomphus/4cdd384700.jpg\n",
      "SUCCESS - saved https://www.researchgate.net/profile/Oleg_Kosterin/publication/324519960/figure/fig46/AS:615298088587285@1523709904653/A-teneral-female-of-Merogomphus-parvus-photographed-at-Thma-Bang-River-bank-on.png - as /home/sic_mundus/Documents/dragonfly-species-identification/Img1/merogomphus/5c4763cdd0.jpg\n",
      "SUCCESS - saved https://ak0.picdn.net/shutterstock/videos/19301920/thumb/1.jpg - as /home/sic_mundus/Documents/dragonfly-species-identification/Img1/merogomphus/cc9aef18df.jpg\n",
      "SUCCESS - saved https://www.indianodonata.org/media_images/2016/35_1611-335-576bc452bc1cf-2.jpg?499 - as /home/sic_mundus/Documents/dragonfly-species-identification/Img1/merogomphus/30c35498ad.jpg\n",
      "SUCCESS - saved https://encrypted-tbn0.gstatic.com/images?q=tbn%3AANd9GcTYp5H3DIQM0gp58DOaIto5cxwir1Nlj38coBDg2gfRQkmbrLWw&usqp=CAU - as /home/sic_mundus/Documents/dragonfly-species-identification/Img1/merogomphus/2577c74465.jpg\n",
      "SUCCESS - saved https://upload.wikimedia.org/wikipedia/commons/thumb/f/f1/Merogomphus_tamaracherriensis-Kadavoor-2016-07-07-001.jpg/1280px-Merogomphus_tamaracherriensis-Kadavoor-2016-07-07-001.jpg - as /home/sic_mundus/Documents/dragonfly-species-identification/Img1/merogomphus/a9d0789b62.jpg\n",
      "SUCCESS - saved https://www.indianodonata.org/media_images/2018/89_3772-231-5b9e3882a4871-4.jpg?734 - as /home/sic_mundus/Documents/dragonfly-species-identification/Img1/merogomphus/599bab548d.jpg\n",
      "SUCCESS - saved https://lh6.googleusercontent.com/-BeAdEb_VaBc/TWpP_EaLdhI/AAAAAAAAAKs/zmndjspzcMs/s1600/blog-Merogomphus+paviei+%2528male%2529+9125.jpg - as /home/sic_mundus/Documents/dragonfly-species-identification/Img1/merogomphus/0a44516d49.jpg\n",
      "SUCCESS - saved https://encrypted-tbn0.gstatic.com/images?q=tbn%3AANd9GcRChcgFXXF2h35UhRJ6mAr1hCgK29N3SZNLWN-5AgQyconNMQE8&usqp=CAU - as /home/sic_mundus/Documents/dragonfly-species-identification/Img1/merogomphus/4c99644511.jpg\n",
      "SUCCESS - saved https://sgodonata.files.wordpress.com/2015/05/img_6102-2013-6-14.png?w=1118&h=767&crop=1 - as /home/sic_mundus/Documents/dragonfly-species-identification/Img1/merogomphus/0a10ca93b4.jpg\n",
      "SUCCESS - saved https://encrypted-tbn0.gstatic.com/images?q=tbn%3AANd9GcS4Adw63qnAGpBKfWUzICoTqk2CTsXBuoLPOnvHjnZgZgxW7227&usqp=CAU - as /home/sic_mundus/Documents/dragonfly-species-identification/Img1/merogomphus/9e6151e8d3.jpg\n",
      "SUCCESS - saved https://2.bp.blogspot.com/-kumHSbXCNJI/U8tvNxhVujI/AAAAAAAADIE/B99E8oeSKRQ/s1600/merogomphus+paviei.jpg - as /home/sic_mundus/Documents/dragonfly-species-identification/Img1/merogomphus/648efe947a.jpg\n",
      "SUCCESS - saved https://upload.wikimedia.org/wikipedia/commons/thumb/d/dc/Merogomphus_tamaracherriensis-Kadavoor-2016-06-19-002.jpg/160px-Merogomphus_tamaracherriensis-Kadavoor-2016-06-19-002.jpg - as /home/sic_mundus/Documents/dragonfly-species-identification/Img1/merogomphus/101e7d7bc2.jpg\n",
      "SUCCESS - saved https://lh3.googleusercontent.com/proxy/K0bkoDmaN-ZZJqUTXLBUS2PELUiKfTrBUPmBMlIo4XFi1AWrGlPwDs1B7PHHMis3xzB_LAIAqoYX0tAhmCMAITrHrQdPeCKe8wiSnutKyX9y6yW0mJIXN9O9BR_V - as /home/sic_mundus/Documents/dragonfly-species-identification/Img1/merogomphus/71c7346c6b.jpg\n",
      "SUCCESS - saved https://upload.wikimedia.org/wikipedia/commons/f/ff/Merogomphus_tamaracherriensis-Kadavoor-2016-06-26-001.jpg - as /home/sic_mundus/Documents/dragonfly-species-identification/Img1/merogomphus/69c1e57cd7.jpg\n",
      "SUCCESS - saved https://3.bp.blogspot.com/-bpTKf8wpwmA/U8twUAtFBEI/AAAAAAAADIU/5sZ5FVdbx8k/s1600/Merogomphus+tamdaoensis%3F.jpg - as /home/sic_mundus/Documents/dragonfly-species-identification/Img1/merogomphus/cfc0f25c6b.jpg\n",
      "SUCCESS - saved https://3.bp.blogspot.com/-TGHJ3RT4DtM/V-ooRd7WYxI/AAAAAAAA748/RiouhjlyzG0FLx3j7nabWFXxrDPjeqJBgCLcB/s1600/Euthygomphus_schorri-novataxa_2016-Kosterin_zootaxa-4171-1.jpg - as /home/sic_mundus/Documents/dragonfly-species-identification/Img1/merogomphus/2a6f3560cd.jpg\n",
      "SUCCESS - saved https://encrypted-tbn0.gstatic.com/images?q=tbn%3AANd9GcQ5YN7TBwNnzdJbDj8PEqcd3gIJGAb1Xr3lRG5zbmfrd0eo1Ixt&usqp=CAU - as /home/sic_mundus/Documents/dragonfly-species-identification/Img1/merogomphus/65e9649e16.jpg\n",
      "SUCCESS - saved https://www.indianodonata.org/media_images/2015/89_955-61-561156b654e37-1.jpg?499 - as /home/sic_mundus/Documents/dragonfly-species-identification/Img1/merogomphus/a84ff5e1e9.jpg\n",
      "SUCCESS - saved https://encrypted-tbn0.gstatic.com/images?q=tbn%3AANd9GcQocu-dnH1CVtgkguefC7ajx8DOTxYIQl-6isWBVLwsJH_SZ5CG&usqp=CAU - as /home/sic_mundus/Documents/dragonfly-species-identification/Img1/merogomphus/3f33395ac9.jpg\n",
      "SUCCESS - saved https://encrypted-tbn0.gstatic.com/images?q=tbn%3AANd9GcRXQsrpPOh5GwPJySvqG-T9gjrIUgTCw0s0XW9oT6sjx_hSWTCN&usqp=CAU - as /home/sic_mundus/Documents/dragonfly-species-identification/Img1/merogomphus/46f1498abf.jpg\n",
      "SUCCESS - saved https://www.indianodonata.org/media_images/2016/115_1610-634-576a3e3e48de1-1.jpg?499 - as /home/sic_mundus/Documents/dragonfly-species-identification/Img1/merogomphus/620e837363.jpg\n",
      "SUCCESS - saved https://upload.wikimedia.org/wikipedia/commons/4/4e/Merogomphus_longistigma_female_2_by_Bala_Chandran.jpg - as /home/sic_mundus/Documents/dragonfly-species-identification/Img1/merogomphus/b996ae388f.jpg\n",
      "SUCCESS - saved https://www.indianodonata.org/media_images/2018/89_3772-231-5b9e3882a4871-3.jpg?734 - as /home/sic_mundus/Documents/dragonfly-species-identification/Img1/merogomphus/b52fa38f51.jpg\n",
      "SUCCESS - saved https://www.indianodonata.org/media_images/2018/374_3937-483-5bb488bf2f7c2-2.jpg?499 - as /home/sic_mundus/Documents/dragonfly-species-identification/Img1/merogomphus/e282615396.jpg\n",
      "SUCCESS - saved https://upload.wikimedia.org/wikipedia/commons/b/b5/Merogomphus_longistigma_3_by_Balachandran.jpg - as /home/sic_mundus/Documents/dragonfly-species-identification/Img1/merogomphus/9d8f5819b8.jpg\n",
      "SUCCESS - saved https://www.indianodonata.org/media_images/2017/15_2940-295-5a2b7fd437cee-1.jpg?734 - as /home/sic_mundus/Documents/dragonfly-species-identification/Img1/merogomphus/21e0dd30d4.jpg\n",
      "SUCCESS - saved https://upload.wikimedia.org/wikipedia/commons/9/9d/Merogomphus_longistigma_-_male_Rosemalai_%281%29.jpg - as /home/sic_mundus/Documents/dragonfly-species-identification/Img1/merogomphus/27b459b4a2.jpg\n"
     ]
    }
   ],
   "source": [
    "for x in range(0,spname.shape[0]):\n",
    "    driverpath=\"/home/sic_mundus/Downloads/chromedriver_linux64/chromedriver\"\n",
    "    search_and_download(spname[x],driverpath,\"/home/sic_mundus/Documents/dragonfly-species-identification/Img1\",30)"
   ]
  },
  {
   "cell_type": "code",
   "execution_count": null,
   "metadata": {},
   "outputs": [],
   "source": []
  }
 ],
 "metadata": {
  "kernelspec": {
   "display_name": "Python 3",
   "language": "python",
   "name": "python3"
  },
  "language_info": {
   "codemirror_mode": {
    "name": "ipython",
    "version": 3
   },
   "file_extension": ".py",
   "mimetype": "text/x-python",
   "name": "python",
   "nbconvert_exporter": "python",
   "pygments_lexer": "ipython3",
   "version": "3.7.7"
  }
 },
 "nbformat": 4,
 "nbformat_minor": 4
}
