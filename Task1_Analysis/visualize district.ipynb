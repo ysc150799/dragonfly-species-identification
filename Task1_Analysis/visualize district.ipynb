{
 "cells": [
  {
   "cell_type": "markdown",
   "metadata": {},
   "source": [
    "### Data Analysis(Dragonfly FB Data)"
   ]
  },
  {
   "cell_type": "code",
   "execution_count": null,
   "metadata": {
    "ExecuteTime": {
     "end_time": "2020-07-24T13:25:55.909024Z",
     "start_time": "2020-07-24T13:25:55.902874Z"
    }
   },
   "outputs": [],
   "source": [
    "import pandas as pd\n",
    "import numpy as np\n",
    "import plotly.express as px\n",
    "import json\n",
    "import plotly"
   ]
  },
  {
   "cell_type": "code",
   "execution_count": null,
   "metadata": {
    "ExecuteTime": {
     "end_time": "2020-07-24T13:23:57.690066Z",
     "start_time": "2020-07-24T13:23:57.582159Z"
    }
   },
   "outputs": [],
   "source": [
    "df=pd.read_csv('demod.csv')\n",
    "df.head(2)"
   ]
  },
  {
   "cell_type": "code",
   "execution_count": null,
   "metadata": {
    "ExecuteTime": {
     "end_time": "2020-07-24T13:23:59.429283Z",
     "start_time": "2020-07-24T13:23:58.505090Z"
    }
   },
   "outputs": [],
   "source": [
    "with open(r'india_dist.geojson') as f:\n",
    "    geojson = json.load(f)"
   ]
  },
  {
   "cell_type": "code",
   "execution_count": null,
   "metadata": {
    "ExecuteTime": {
     "end_time": "2020-07-24T13:24:01.531325Z",
     "start_time": "2020-07-24T13:24:01.454467Z"
    }
   },
   "outputs": [],
   "source": [
    "species=dict(df.species_name.value_counts())\n",
    "speciesdf=pd.DataFrame(species.items(),columns=['species','count'])\n",
    "speciesdf\n",
    "i = df[(df.District == '-1')].index\n",
    "df.drop(i,inplace=True)\n",
    "df.reset_index(drop=True,inplace=True) \n",
    "#speciesdf\n",
    "dist=dict(df.District.value_counts())\n",
    "distdf=pd.DataFrame(dist.items(),columns=['dist','count'])"
   ]
  },
  {
   "cell_type": "markdown",
   "metadata": {},
   "source": [
    "### Observation per district"
   ]
  },
  {
   "cell_type": "code",
   "execution_count": null,
   "metadata": {
    "ExecuteTime": {
     "end_time": "2020-07-24T13:24:25.996723Z",
     "start_time": "2020-07-24T13:24:04.670572Z"
    }
   },
   "outputs": [],
   "source": [
    "fig1 = px.choropleth_mapbox(distdf, geojson=geojson, color=\"count\", color_continuous_scale=\"matter\",\n",
    "                           locations=\"dist\", featureidkey=\"properties.DISTRICT\",\n",
    "                           center={\"lat\": 19.0948, \"lon\":  74.7480},\n",
    "                           mapbox_style=\"carto-positron\",\n",
    "                           zoom=4, opacity=0.88)\n",
    "fig1.show()"
   ]
  },
  {
   "cell_type": "code",
   "execution_count": null,
   "metadata": {
    "ExecuteTime": {
     "end_time": "2020-07-24T13:27:17.698078Z",
     "start_time": "2020-07-24T13:27:07.154223Z"
    }
   },
   "outputs": [],
   "source": [
    "plotly.offline.plot(fig1, include_plotlyjs=False, output_type='div')"
   ]
  },
  {
   "cell_type": "markdown",
   "metadata": {},
   "source": [
    "### Observations in each district"
   ]
  },
  {
   "cell_type": "code",
   "execution_count": null,
   "metadata": {
    "ExecuteTime": {
     "end_time": "2020-07-24T13:33:29.365641Z",
     "start_time": "2020-07-24T13:33:29.349143Z"
    }
   },
   "outputs": [],
   "source": [
    "dist1=distdf.iloc[1:25,:]"
   ]
  },
  {
   "cell_type": "code",
   "execution_count": null,
   "metadata": {
    "ExecuteTime": {
     "end_time": "2020-07-24T13:33:30.646114Z",
     "start_time": "2020-07-24T13:33:30.544916Z"
    }
   },
   "outputs": [],
   "source": [
    "fig1=px.bar(dist1,x='dist',y='count')\n",
    "fig1.show()"
   ]
  },
  {
   "cell_type": "code",
   "execution_count": null,
   "metadata": {
    "ExecuteTime": {
     "end_time": "2020-07-24T13:33:34.652528Z",
     "start_time": "2020-07-24T13:33:34.602738Z"
    },
    "scrolled": true
   },
   "outputs": [],
   "source": [
    "plotly.offline.plot(fig1, include_plotlyjs=False, output_type='div')"
   ]
  },
  {
   "cell_type": "markdown",
   "metadata": {},
   "source": [
    "### Species Distribution"
   ]
  },
  {
   "cell_type": "code",
   "execution_count": null,
   "metadata": {},
   "outputs": [],
   "source": [
    "speciesdf1=speciesdf.iloc[1:25,:]"
   ]
  },
  {
   "cell_type": "code",
   "execution_count": null,
   "metadata": {},
   "outputs": [],
   "source": [
    "fig = px.bar(speciesdf1,x='species',y='count')\n",
    "fig.show()"
   ]
  },
  {
   "cell_type": "markdown",
   "metadata": {},
   "source": [
    "### Where were particular species spotted"
   ]
  },
  {
   "cell_type": "code",
   "execution_count": null,
   "metadata": {},
   "outputs": [],
   "source": [
    "df1=pd.read_csv('demod.csv')\n",
    "species_name='diplacodes trivialis'\n",
    "selected=df1[(df1.species_name == species_name) & (df1.District != '-1')]\n",
    "print(species_name)\n",
    "selected_dict=dict(selected.District.value_counts())\n",
    "#print(selected_dict)\n",
    "selected_df=pd.DataFrame(selected_dict.items(),columns=['district','count'])\n",
    "print(selected_df)\n",
    "fig1 = px.choropleth_mapbox(selected_df, geojson=geojson, color=\"count\", color_continuous_scale=\"matter\",\n",
    "                           locations=\"district\", featureidkey=\"properties.DISTRICT\",\n",
    "                           center={\"lat\": 19.0948, \"lon\":  74.7480},\n",
    "                           mapbox_style=\"carto-positron\",\n",
    "                           zoom=4, opacity=0.88)\n",
    "selected_dict={}\n",
    "selected_df=selected_df.iloc[0:0]\n",
    "fig1.show()"
   ]
  },
  {
   "cell_type": "markdown",
   "metadata": {},
   "source": [
    "### Species distribution in a district"
   ]
  },
  {
   "cell_type": "code",
   "execution_count": null,
   "metadata": {},
   "outputs": [],
   "source": [
    "df1=pd.read_csv('demod.csv')\n",
    "district_name='Palakkad'\n",
    "selected=df1[(df1.District != '-1') & (df1.District == district_name) & (df1.species_name != '-1')]\n",
    "selected_dict=dict(selected.species_name.value_counts())\n",
    "selected_df=pd.DataFrame(selected_dict.items(),columns=['species','count'])\n",
    "fig = px.bar(selected_df,x='species',y='count')\n",
    "fig.update_layout(title=district_name)\n",
    "fig.show()\n",
    "selected_dict={}\n",
    "selected_df=selected_df.iloc[0:0]"
   ]
  },
  {
   "cell_type": "code",
   "execution_count": null,
   "metadata": {},
   "outputs": [],
   "source": [
    "selected_dict=dict(selected.District.value_counts())"
   ]
  }
 ],
 "metadata": {
  "kernelspec": {
   "display_name": "Python 3",
   "language": "python",
   "name": "python3"
  },
  "language_info": {
   "codemirror_mode": {
    "name": "ipython",
    "version": 3
   },
   "file_extension": ".py",
   "mimetype": "text/x-python",
   "name": "python",
   "nbconvert_exporter": "python",
   "pygments_lexer": "ipython3",
   "version": "3.8.3"
  },
  "toc": {
   "base_numbering": 1,
   "nav_menu": {},
   "number_sections": true,
   "sideBar": true,
   "skip_h1_title": false,
   "title_cell": "Table of Contents",
   "title_sidebar": "Contents",
   "toc_cell": false,
   "toc_position": {},
   "toc_section_display": true,
   "toc_window_display": false
  }
 },
 "nbformat": 4,
 "nbformat_minor": 4
}
